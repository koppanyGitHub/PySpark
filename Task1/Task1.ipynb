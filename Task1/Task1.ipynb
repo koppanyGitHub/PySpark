{
 "cells": [
  {
   "cell_type": "code",
   "execution_count": 1,
   "id": "23bd44ea",
   "metadata": {
    "ExecuteTime": {
     "end_time": "2023-09-23T12:20:03.549014800Z",
     "start_time": "2023-09-23T12:20:03.300882400Z"
    }
   },
   "outputs": [],
   "source": [
    "from pyspark.sql import SparkSession\n",
    "from pyspark.sql.functions import max, min, avg, col, \\\n",
    "current_date, year, row_number, explode, split, floor, expr, count\n",
    "from pyspark.sql.window import Window"
   ]
  },
  {
   "cell_type": "code",
   "execution_count": 10,
   "outputs": [
    {
     "name": "stdout",
     "output_type": "stream",
     "text": [
      "['C:\\\\Users\\\\csiha\\\\AppData\\\\Local\\\\Programs\\\\PyCharm Professional\\\\plugins\\\\python\\\\helpers-pro\\\\jupyter_debug', 'C:\\\\Users\\\\csiha\\\\AppData\\\\Local\\\\Temp\\\\spark-c5a40620-0828-4f19-bfd9-d010aefbce4f\\\\userFiles-9c5c2496-aff9-4e36-9b0b-284e8a702a3b', 'C:\\\\Users\\\\csiha\\\\AppData\\\\Local\\\\Programs\\\\PyCharm Professional\\\\plugins\\\\python\\\\helpers\\\\pydev', 'C:\\\\Users\\\\csiha\\\\PycharmProjects\\\\Pyspark\\\\Task1', 'C:\\\\Users\\\\csiha\\\\PycharmProjects\\\\Pyspark\\\\Task1', 'C:\\\\Users\\\\csiha\\\\AppData\\\\Local\\\\Programs\\\\Python\\\\Python310\\\\python310.zip', 'C:\\\\Users\\\\csiha\\\\AppData\\\\Local\\\\Programs\\\\Python\\\\Python310\\\\DLLs', 'C:\\\\Users\\\\csiha\\\\AppData\\\\Local\\\\Programs\\\\Python\\\\Python310\\\\lib', 'C:\\\\Users\\\\csiha\\\\AppData\\\\Local\\\\Programs\\\\Python\\\\Python310', 'C:\\\\Users\\\\csiha\\\\.virtualenvs\\\\Task1', '', 'C:\\\\Users\\\\csiha\\\\.virtualenvs\\\\Task1\\\\lib\\\\site-packages', 'C:\\\\Users\\\\csiha\\\\.virtualenvs\\\\Task1\\\\lib\\\\site-packages\\\\win32', 'C:\\\\Users\\\\csiha\\\\.virtualenvs\\\\Task1\\\\lib\\\\site-packages\\\\win32\\\\lib', 'C:\\\\Users\\\\csiha\\\\.virtualenvs\\\\Task1\\\\lib\\\\site-packages\\\\Pythonwin']\n"
     ]
    }
   ],
   "source": [],
   "metadata": {
    "collapsed": false,
    "ExecuteTime": {
     "end_time": "2023-09-23T12:57:21.870415800Z",
     "start_time": "2023-09-23T12:57:21.826602400Z"
    }
   },
   "id": "55515d4a2bf7fb13"
  },
  {
   "cell_type": "code",
   "execution_count": null,
   "outputs": [],
   "source": [
    "spark = SparkSession.builder.master('local').appName('IMDb_analysis').getOrCreate()\n",
    "\n",
    "spark.sparkContext.setLogLevel('WARN')"
   ],
   "metadata": {
    "collapsed": false
   },
   "id": "86cedb263310d324"
  },
  {
   "cell_type": "code",
   "execution_count": 2,
   "id": "d9d317b4",
   "metadata": {
    "ExecuteTime": {
     "end_time": "2023-09-23T12:20:17.621231600Z",
     "start_time": "2023-09-23T12:20:08.306662700Z"
    }
   },
   "outputs": [],
   "source": [
    "#Creating a spark session, and the pathways\n",
    "\n",
    "\n",
    "NAME_DATA_PATH = './persons.tsv'\n",
    "RATINGS_PATH = './ratings.tsv'\n",
    "ORDERS_PATH = './orders.tsv'\n",
    "BASICS_PATH = './basics.tsv'\n",
    "EPISODES_PATH = './episodes.tsv'\n",
    "CREW_PATH = './crew.tsv'\n",
    "PRINCIPALS_PATH = './principals.tsv'"
   ]
  },
  {
   "cell_type": "code",
   "execution_count": 3,
   "id": "38937f2b",
   "metadata": {
    "ExecuteTime": {
     "end_time": "2023-09-23T12:20:33.688715500Z",
     "start_time": "2023-09-23T12:20:19.358682200Z"
    }
   },
   "outputs": [
    {
     "data": {
      "text/plain": "DataFrame[tconst: string, averageRating: double, numVotes: int]"
     },
     "execution_count": 3,
     "metadata": {},
     "output_type": "execute_result"
    }
   ],
   "source": [
    "def get_all_ratings():\n",
    "    df_ratings = spark.read.option('sep', '\\t').csv(RATINGS_PATH,\n",
    "                                                 header=True, inferSchema=True)\n",
    "    \n",
    "    return df_ratings\n",
    "get_all_ratings()"
   ]
  },
  {
   "cell_type": "code",
   "execution_count": 4,
   "id": "0e5c1477",
   "metadata": {
    "ExecuteTime": {
     "end_time": "2023-09-23T12:20:38.758109200Z",
     "start_time": "2023-09-23T12:20:33.690728500Z"
    }
   },
   "outputs": [
    {
     "data": {
      "text/plain": "DataFrame[tconst: string, averageRating: double, numVotes: int]"
     },
     "execution_count": 4,
     "metadata": {},
     "output_type": "execute_result"
    }
   ],
   "source": [
    "#Relevant rows from rating df\n",
    "\n",
    "def get_relevant_rating():\n",
    "    df_rating = get_all_ratings()\n",
    "\n",
    "    relevant_ratings = df_rating.filter(df_rating['numVotes'] > 100_000)\n",
    "    return relevant_ratings\n",
    "get_relevant_rating()"
   ]
  },
  {
   "cell_type": "code",
   "execution_count": 5,
   "id": "371305ae",
   "metadata": {
    "ExecuteTime": {
     "end_time": "2023-09-23T12:21:10.968229200Z",
     "start_time": "2023-09-23T12:20:42.485947200Z"
    }
   },
   "outputs": [
    {
     "data": {
      "text/plain": "DataFrame[tconst: string, titleType: string, primaryTitle: string, originalTitle: string, isAdult: string, startYear: string, endYear: string, runtimeMinutes: string, genres: string]"
     },
     "execution_count": 5,
     "metadata": {},
     "output_type": "execute_result"
    }
   ],
   "source": [
    "#Movies\n",
    "\n",
    "def get_movies():  \n",
    "    df_basics = spark.read.option('sep', '\\t').csv(BASICS_PATH, \n",
    "                                                header = True, inferSchema = True)\n",
    "    df_movies = df_basics.filter(df_basics['titleType'] == 'movie')\n",
    "    return df_movies\n",
    "get_movies()"
   ]
  },
  {
   "cell_type": "code",
   "execution_count": 6,
   "id": "d114e7ea",
   "metadata": {
    "ExecuteTime": {
     "end_time": "2023-09-23T12:21:56.667219300Z",
     "start_time": "2023-09-23T12:21:24.600680Z"
    }
   },
   "outputs": [
    {
     "data": {
      "text/plain": "DataFrame[tconst: string, averageRating: double, numVotes: int, titleType: string, primaryTitle: string, originalTitle: string, isAdult: string, startYear: string, endYear: string, runtimeMinutes: string, genres: string]"
     },
     "execution_count": 6,
     "metadata": {},
     "output_type": "execute_result"
    }
   ],
   "source": [
    "#Movies with more than 100 000 votes\n",
    "\n",
    "def get_relevant_movies():\n",
    "    relevant_ratings = get_relevant_rating()\n",
    "    df_movies = get_movies()\n",
    "    relevant_movies = relevant_ratings.join(df_movies, on = 'tconst', how = 'inner')\n",
    "    return relevant_movies\n",
    "get_relevant_movies()"
   ]
  },
  {
   "cell_type": "code",
   "execution_count": 7,
   "id": "d2ea5585",
   "metadata": {
    "ExecuteTime": {
     "end_time": "2023-09-23T12:23:54.771030800Z",
     "start_time": "2023-09-23T12:21:56.665219300Z"
    }
   },
   "outputs": [
    {
     "data": {
      "text/plain": "DataFrame[tconst: string, ordering: int, nconst: string, category: string, job: string, characters: string]"
     },
     "execution_count": 7,
     "metadata": {},
     "output_type": "execute_result"
    }
   ],
   "source": [
    "#Actors from principal table\n",
    "\n",
    "def get_actors():\n",
    "    principal_df = spark.read.option('sep', '\\t').csv(PRINCIPALS_PATH, \n",
    "                                                header = True, inferSchema = True)\n",
    "    principal_df = principal_df.filter(principal_df['category'] == 'actor')\n",
    "\n",
    "    return principal_df\n",
    "get_actors()"
   ]
  },
  {
   "cell_type": "code",
   "execution_count": 8,
   "id": "2a47b137",
   "metadata": {},
   "outputs": [
    {
     "data": {
      "text/plain": [
       "DataFrame[tconst: string, ordering: int, nconst: string, category: string, job: string, characters: string]"
      ]
     },
     "execution_count": 8,
     "metadata": {},
     "output_type": "execute_result"
    }
   ],
   "source": [
    "# Directors from principal table\n",
    "\n",
    "def get_principal_directors():\n",
    "    principal_dir_df = spark.read.option('sep', '\\t').csv(PRINCIPALS_PATH, \n",
    "                                                header = True, inferSchema = True)\n",
    "    principal_dir_df = principal_dir_df.filter(principal_dir_df['category'] == 'director')\n",
    "\n",
    "    return principal_dir_df\n",
    "get_principal_directors()"
   ]
  },
  {
   "cell_type": "code",
   "execution_count": 8,
   "id": "f1b7cd98",
   "metadata": {
    "ExecuteTime": {
     "end_time": "2023-09-23T12:41:40.587931200Z",
     "start_time": "2023-09-23T12:41:07.969783200Z"
    }
   },
   "outputs": [
    {
     "data": {
      "text/plain": "DataFrame[tconst: string, primaryTitle: string, numVotes: int, averageRating: double, startYear: string]"
     },
     "execution_count": 8,
     "metadata": {},
     "output_type": "execute_result"
    }
   ],
   "source": [
    "#Get the best 100 movies of all time\n",
    "\n",
    "def all_time_best_100movies():\n",
    "    relevant_movies = get_relevant_movies()\n",
    "    \n",
    "    all_time_best_top100 = relevant_movies.orderBy(col('averageRating').desc()).limit(100)\n",
    "    desired_columns_order=['tconst','primaryTitle', 'numVotes', 'averageRating', 'startYear']\n",
    "    all_time_best_top100 = all_time_best_top100.select(desired_columns_order)\n",
    "    return all_time_best_top100\n",
    "all_time_best_100movies()"
   ]
  },
  {
   "cell_type": "code",
   "execution_count": null,
   "id": "d5b7f725",
   "metadata": {},
   "outputs": [],
   "source": [
    "#Display the best 100 movies\n",
    "\n",
    "def show_all_time_best_100movies():\n",
    "    all_time_best_100_movies_df = all_time_best_100movies()\n",
    "    all_time_best_100_movies_df.show()\n",
    "\n",
    "# To display the DataFrame:\n",
    "show_all_time_best_100movies()"
   ]
  },
  {
   "cell_type": "code",
   "execution_count": null,
   "id": "b7042c2f",
   "metadata": {},
   "outputs": [],
   "source": [
    "#Get the best movies from the past 10 years\n",
    "\n",
    "def get_best_movies_last10_years():\n",
    "    current_year = year(current_date())\n",
    "    last_10_years_range = (current_year - 9, current_year)\n",
    "    relevant_movies = get_relevant_movies()\n",
    "    \n",
    "    desired_columns_order=['tconst','primaryTitle', 'numVotes', 'averageRating', 'startYear']\n",
    "    best_last_10years = relevant_movies.filter(\n",
    "        (relevant_movies['startYear'] >= last_10_years_range[0]) &\n",
    "        (relevant_movies['startYear'] <= last_10_years_range[1])\n",
    "    )\n",
    "    best_last_10years = best_last_10years.select(desired_columns_order).orderBy(col('averageRating').desc()).limit(100)\n",
    "    best_last_10years.show()\n",
    "get_best_movies_last10_years()"
   ]
  },
  {
   "cell_type": "code",
   "execution_count": null,
   "id": "411a3a11",
   "metadata": {},
   "outputs": [],
   "source": [
    "#Get the most popular movies from the 60s\n",
    "\n",
    "def get_popular_movies_60s():\n",
    "    year_range_60s = (1960, 1969)\n",
    "    relevant_movies = get_relevant_movies()\n",
    "    \n",
    "    desired_columns_order=['tconst','primaryTitle', 'numVotes', 'averageRating', 'startYear']\n",
    "    best_films_60s = relevant_movies.filter(\n",
    "        (relevant_movies['startYear'] >= year_range_60s[0]) &\n",
    "        (relevant_movies['startYear'] <= year_range_60s[1])\n",
    "    )\n",
    "    best_films_60s = best_films_60s.select(desired_columns_order).limit(100).orderBy(col('averageRating').desc())\n",
    "    best_films_60s.show()\n",
    "get_popular_movies_60s()"
   ]
  },
  {
   "cell_type": "code",
   "execution_count": null,
   "id": "21d1133b",
   "metadata": {},
   "outputs": [],
   "source": [
    "#2nd task\n",
    "def top10_films_by_genre():\n",
    "    relevant_movies = get_relevant_movies()\n",
    "    \n",
    "    split_movies = relevant_movies.withColumn(\"genres\",\n",
    "                                 split(col(\"genres\"), \",\"))\n",
    "    exploded_movies = split_movies.withColumn('genre', explode(col('genres')))\n",
    "    window_spec = Window.partitionBy('genre').orderBy(col('averageRating').desc())\n",
    "\n",
    "    ranked_movies = exploded_movies.withColumn('rank', row_number().over(window_spec))\n",
    "\n",
    "    top_10_movies_by_genre = ranked_movies.filter(col('rank') <= 10)\n",
    "\n",
    "    selected_columns = ['tconst', 'averageRating', 'numVotes', 'primaryTitle', 'startYear', 'genre']\n",
    "    result_df = top_10_movies_by_genre.select(selected_columns)\n",
    "    return result_df\n",
    "\n",
    "top10_films_by_genre()"
   ]
  },
  {
   "cell_type": "code",
   "execution_count": null,
   "id": "05cc7dca",
   "metadata": {},
   "outputs": [],
   "source": [
    "#3rd task\n",
    "def get_populat_movies_by_genre_and_decade():\n",
    "    relevant_movies = get_relevant_movies()\n",
    "\n",
    "    split_movies = relevant_movies.withColumn(\"genres\", split(col(\"genres\"), \",\"))\n",
    "    exploded_movies = split_movies.withColumn('genre', explode(col('genres')))\n",
    "    year_range_movies = exploded_movies.withColumn('yearRange', expr(f\"concat(floor(startYear/10) *10, \\\n",
    "                                                                    '-', floor(startYear/10)*10 + 9)\"))\n",
    "    window_spec = Window.partitionBy('yearRange', 'genre').orderBy(col('averageRating').desc())\n",
    "    ranked_movies = year_range_movies.withColumn('rank', row_number().over(window_spec))\n",
    "    top_10_movies_by_genre = ranked_movies.filter(col('rank') <= 10)\n",
    "\n",
    "    selected_columns = ['tconst', 'averageRating', 'numVotes', 'primaryTitle', 'startYear', 'genre', 'yearRange']\n",
    "    result_df = top_10_movies_by_genre.select(selected_columns)\n",
    "    final_ordered_df = result_df.orderBy(col('yearRange').desc())\n",
    "\n",
    "    final_ordered_df.show()\n",
    "get_populat_movies_by_genre_and_decade()"
   ]
  },
  {
   "cell_type": "code",
   "execution_count": null,
   "id": "5fc53893",
   "metadata": {},
   "outputs": [],
   "source": [
    "#Task 4\n",
    "\n",
    "#Get the actors \n",
    "def get_names(NAME_DATA_PATH):\n",
    "    df_names = spark.read.option('sep', '\\t').csv(NAME_DATA_PATH,\n",
    "                                                  header=True, inferSchema=True)\n",
    "    split_names = df_names.withColumn(\"knownForTitles\", split(col(\"knownForTitles\"), \",\"))\n",
    "    exploded_names = split_names.withColumn('knownForTitles', explode(col('knownForTitles')))\n",
    "    profession_split = exploded_names.withColumn(\"primaryProfession\", split(col('primaryProfession'), ','))\n",
    "    profession_explode = profession_split.withColumn('primaryProfession', explode(col('primaryProfession')))\n",
    "    actors = profession_explode.filter(profession_explode.primaryProfession == 'actor')\n",
    "\n",
    "    desired_columns = [\"nconst\", \"primaryName\", \"deathYear\"]\n",
    "    actors = actors.select(desired_columns)\n",
    "\n",
    "    return actors\n",
    "\n",
    "get_names(NAME_DATA_PATH)"
   ]
  },
  {
   "cell_type": "code",
   "execution_count": null,
   "id": "db9ef7cf",
   "metadata": {},
   "outputs": [],
   "source": [
    "def print_actors():\n",
    "    actors = get_names(NAME_DATA_PATH)\n",
    "    actors.show()\n",
    "    \n",
    "print_actors()"
   ]
  },
  {
   "cell_type": "code",
   "execution_count": null,
   "id": "dba0b907",
   "metadata": {},
   "outputs": [],
   "source": [
    "# Get the directors\n",
    "\n",
    "def get_directors(NAME_DATA_PATH):\n",
    "    df_names = spark.read.option('sep', '\\t').csv(NAME_DATA_PATH,\n",
    "                                                 header=True, inferSchema=True)\n",
    "    split_names = df_names.withColumn(\"knownForTitles\", split(col(\"knownForTitles\"), \",\"))\n",
    "    exploded_names = split_names.withColumn('knownForTitles', explode(col('knownForTitles')))\n",
    "    profession_split = exploded_names.withColumn(\"primaryProfession\", split(col('primaryProfession'), ','))\n",
    "    profession_explode = profession_split.withColumn('primaryProfession', explode(col('primaryProfession')))\n",
    "    directors = profession_explode.filter(profession_explode.primaryProfession == 'director')\n",
    "    \n",
    "    \n",
    "    return directors\n",
    "get_directors(NAME_DATA_PATH)"
   ]
  },
  {
   "cell_type": "code",
   "execution_count": null,
   "id": "997b7ff3",
   "metadata": {},
   "outputs": [],
   "source": [
    "def print_directors():\n",
    "    directors = get_directors(NAME_DATA_PATH)\n",
    "    directors.show()\n",
    "    \n",
    "print_directors()"
   ]
  },
  {
   "cell_type": "code",
   "execution_count": null,
   "id": "43d59e23",
   "metadata": {},
   "outputs": [],
   "source": [
    "# Search for mutual elements between the 100 best films and principal attributes\n",
    "\n",
    "def join_movies_principals():\n",
    "    best_movies = all_time_best_100movies()\n",
    "    principals = get_actors(PRINCIPALS_PATH)\n",
    "    \n",
    "    movie_principal_df = principals.join(best_movies, on = 'tconst', how = 'inner')\n",
    "    return  movie_principal_df\n",
    "\n",
    "join_movies_principals()\n"
   ]
  },
  {
   "cell_type": "code",
   "execution_count": null,
   "id": "a996c1ea",
   "metadata": {},
   "outputs": [],
   "source": [
    "def show_join_movies_principals():\n",
    "    mv_pr = get_actors_in_best_movies()\n",
    "    mv_pr.show()\n",
    "show_join_movies_principals()"
   ]
  },
  {
   "cell_type": "code",
   "execution_count": null,
   "id": "c2435fc4",
   "metadata": {},
   "outputs": [],
   "source": [
    "# Find the actors who played in the best 100 film in at least 2 different roles \n",
    "\n",
    "def join_movie_principal_df_actors():\n",
    "    movie_princ = get_actors_in_best_movies()\n",
    "    actors = get_names(NAME_DATA_PATH)\n",
    "    \n",
    "    actor_movie_princ = actors.join(movie_princ, on='nconst', how='inner')\n",
    "    actor_movie_princ = actor_movie_princ.dropDuplicates(subset=[\"tconst\"])\n",
    "\n",
    "    actor_counts = actor_movie_princ.groupBy(\"primaryName\").agg(count(\"*\").alias(\"appearance_count\"))\n",
    "    actor_counts_filtered = actor_counts.filter(actor_counts.appearance_count >= 2)\n",
    "    \n",
    "    actor_counts_filtered.show()\n",
    "    return actor_counts_filtered\n",
    "\n",
    "join_movie_principal_df_actors()"
   ]
  },
  {
   "cell_type": "code",
   "execution_count": null,
   "id": "b78236c3",
   "metadata": {},
   "outputs": [],
   "source": [
    "#Task 5:\n",
    "\n",
    "def join_directors_principal():\n",
    "    directors = get_directors(NAME_DATA_PATH)\n",
    "    principal_dir = get_principal_directors(PRINCIPALS_PATH)\n",
    "    dir_princ = directors.join(principal_dir, on = 'nconst', how = 'inner')\n",
    "    return dir_princ\n",
    "join_directors_principal()\n",
    "    "
   ]
  },
  {
   "cell_type": "code",
   "execution_count": null,
   "id": "60460c36",
   "metadata": {},
   "outputs": [],
   "source": [
    "def get_movies_per_director():\n",
    "    dir_princ = join_directors_principal()\n",
    "    movies = get_movies(BASICS_PATH)\n",
    "    movies_per_director = dir_princ.join(movies, on='tconst', how='inner')\n",
    "    \n",
    "    columns_to_keep = ['tconst', 'primaryName', 'primaryTitle', 'startYear']\n",
    "    movies_per_director = movies_per_director.select(columns_to_keep)\n",
    "    \n",
    "    return movies_per_director\n",
    "\n",
    "get_movies_per_director()\n",
    "    "
   ]
  },
  {
   "cell_type": "code",
   "execution_count": null,
   "id": "d759f6c3",
   "metadata": {},
   "outputs": [],
   "source": [
    "def top5_movies_per_director():\n",
    "    movies_per_director = get_movies_per_director()\n",
    "    #[tconst: string, primaryName: string, primaryTitle: string, startYear: string]\n",
    "    df_ratings = get_all_ratings(RATINGS_PATH)\n",
    "    #[tconst: string, averageRating: double, numVotes: int]\n",
    "    \n",
    "    movies_per_director_with_ratings = movies_per_director.join(df_ratings, on='tconst', how='inner')\n",
    "    \n",
    "    window_spec = Window.partitionBy(\"primaryName\").orderBy(df_ratings[\"averageRating\"].desc())\n",
    "    \n",
    "    movies_per_director_with_ratings = movies_per_director_with_ratings.withColumn(\"rank\", row_number().over(window_spec))\n",
    "    \n",
    "    top5_movies_per_director = movies_per_director_with_ratings.filter(movies_per_director_with_ratings[\"rank\"] <= 5)\n",
    "    \n",
    "    needed_columns = ['primaryName', 'primaryTitle', 'startYear', 'averageRating', 'numVotes']\n",
    "    top5_movies_per_director = top5_movies_per_director.select(needed_columns).dropDuplicates(subset=[\"primaryTitle\"])\n",
    "    \n",
    "    top5_movies_per_director.show()\n",
    "    return top5_movies_per_director\n",
    "\n",
    "top5_movies_per_director()"
   ]
  },
  {
   "cell_type": "code",
   "execution_count": null,
   "id": "6d40cb19",
   "metadata": {},
   "outputs": [],
   "source": []
  }
 ],
 "metadata": {
  "kernelspec": {
   "display_name": "Python 3 (ipykernel)",
   "language": "python",
   "name": "python3"
  },
  "language_info": {
   "codemirror_mode": {
    "name": "ipython",
    "version": 3
   },
   "file_extension": ".py",
   "mimetype": "text/x-python",
   "name": "python",
   "nbconvert_exporter": "python",
   "pygments_lexer": "ipython3",
   "version": "3.9.12"
  }
 },
 "nbformat": 4,
 "nbformat_minor": 5
}
